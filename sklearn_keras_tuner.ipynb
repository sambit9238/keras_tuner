{
  "nbformat": 4,
  "nbformat_minor": 0,
  "metadata": {
    "colab": {
      "name": "sklearn_keras_tuner.ipynb",
      "provenance": [],
      "authorship_tag": "ABX9TyM4rEzfVZM0VuWLnmACOuyp",
      "include_colab_link": true
    },
    "kernelspec": {
      "name": "python3",
      "display_name": "Python 3"
    }
  },
  "cells": [
    {
      "cell_type": "markdown",
      "metadata": {
        "id": "view-in-github",
        "colab_type": "text"
      },
      "source": [
        "<a href=\"https://colab.research.google.com/github/sambit9238/keras_tuner/blob/master/sklearn_keras_tuner.ipynb\" target=\"_parent\"><img src=\"https://colab.research.google.com/assets/colab-badge.svg\" alt=\"Open In Colab\"/></a>"
      ]
    },
    {
      "cell_type": "code",
      "metadata": {
        "id": "51GLjY6YgPez"
      },
      "source": [
        "from sklearn import ensemble\n",
        "from sklearn import metrics\n",
        "from sklearn import datasets\n",
        "from sklearn import model_selection\n",
        "from sklearn.datasets import make_classification\n",
        "from sklearn.model_selection import train_test_split\n",
        "from kerastuner.tuners import Sklearn\n",
        "from kerastuner.oracles import BayesianOptimization\n",
        "from kerastuner import Objective"
      ],
      "execution_count": 22,
      "outputs": []
    },
    {
      "cell_type": "code",
      "metadata": {
        "id": "h3MTyn550zYY"
      },
      "source": [
        "X, y = make_classification(n_samples=1000, n_features=10,\n",
        "                          n_informative=2, n_redundant=0,\n",
        "                           random_state=42, shuffle=False)"
      ],
      "execution_count": 18,
      "outputs": []
    },
    {
      "cell_type": "code",
      "metadata": {
        "id": "IChWK3lo-EBm"
      },
      "source": [
        "X_train, X_test, y_train, y_test = train_test_split(X, y, test_size=0.33, random_state=42)"
      ],
      "execution_count": 23,
      "outputs": []
    },
    {
      "cell_type": "code",
      "metadata": {
        "id": "5LiuYW_Uy-0Y"
      },
      "source": [
        "def build_tree_model(hp):\n",
        "  return ensemble.RandomForestClassifier(\n",
        "      n_estimators=hp.Int('n_estimators', 10, 80, step=10),\n",
        "      max_depth=hp.Int('max_depth', 5, 10, step=1),\n",
        "      max_features=hp.Choice('max_features', ['auto', 'sqrt', 'log2'])\n",
        "  )"
      ],
      "execution_count": 33,
      "outputs": []
    },
    {
      "cell_type": "code",
      "metadata": {
        "id": "Hkx7XGG7zJcs",
        "outputId": "0901e956-f610-4a9d-88ab-81ae69026dfe",
        "colab": {
          "base_uri": "https://localhost:8080/",
          "height": 51
        }
      },
      "source": [
        "sk_tuner = Sklearn(\n",
        "                oracle=BayesianOptimization(\n",
        "                    objective = Objective('score', 'max'),\n",
        "                    max_trials=10,\n",
        "                    seed=42\n",
        "                ),\n",
        "                hypermodel=build_tree_model,\n",
        "                scoring=metrics.make_scorer(metrics.accuracy_score),\n",
        "                cv=model_selection.StratifiedKFold(5),\n",
        "                directory='log_dir',\n",
        "                project_name='tune_rf'\n",
        "        )"
      ],
      "execution_count": 34,
      "outputs": [
        {
          "output_type": "stream",
          "text": [
            "INFO:tensorflow:Reloading Oracle from existing project log_dir/tune_rf/oracle.json\n",
            "INFO:tensorflow:Reloading Tuner from log_dir/tune_rf/tuner0.json\n"
          ],
          "name": "stdout"
        }
      ]
    },
    {
      "cell_type": "code",
      "metadata": {
        "id": "DLDXzQlaznOm",
        "outputId": "4eee440d-0c97-46ca-f4f5-c85392c02515",
        "colab": {
          "base_uri": "https://localhost:8080/",
          "height": 34
        }
      },
      "source": [
        "sk_tuner.search(X_train, y_train)"
      ],
      "execution_count": 35,
      "outputs": [
        {
          "output_type": "stream",
          "text": [
            "INFO:tensorflow:Oracle triggered exit\n"
          ],
          "name": "stdout"
        }
      ]
    },
    {
      "cell_type": "code",
      "metadata": {
        "id": "8OYCMEjE0ASJ",
        "outputId": "5fcaf190-cb0a-4c99-9641-c3a25193e67f",
        "colab": {
          "base_uri": "https://localhost:8080/",
          "height": 34
        }
      },
      "source": [
        "sk_tuner.get_best_hyperparameters()[0].values"
      ],
      "execution_count": 36,
      "outputs": [
        {
          "output_type": "execute_result",
          "data": {
            "text/plain": [
              "{'max_depth': 7, 'max_features': 'auto', 'n_estimators': 80}"
            ]
          },
          "metadata": {
            "tags": []
          },
          "execution_count": 36
        }
      ]
    },
    {
      "cell_type": "code",
      "metadata": {
        "id": "U2-fxCva-w3-"
      },
      "source": [
        ""
      ],
      "execution_count": null,
      "outputs": []
    }
  ]
}